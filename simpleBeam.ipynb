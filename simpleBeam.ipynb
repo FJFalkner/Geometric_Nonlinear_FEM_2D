{
 "cells": [
  {
   "cell_type": "code",
   "execution_count": 12,
   "id": "0d1513f1",
   "metadata": {},
   "outputs": [],
   "source": [
    "from ansys.mapdl.core import launch_mapdl\n",
    "import numpy as np\n",
    "import matplotlib.pyplot as plt"
   ]
  },
  {
   "cell_type": "code",
   "execution_count": 43,
   "id": "d8d2e38d",
   "metadata": {},
   "outputs": [
    {
     "data": {
      "text/plain": [
       "*****MAPDL VERIFICATION RUN ONLY*****\n",
       "     DO NOT USE RESULTS FOR PRODUCTION\n",
       "\n",
       "          ***** MAPDL ANALYSIS DEFINITION (PREP7) *****"
      ]
     },
     "execution_count": 43,
     "metadata": {},
     "output_type": "execute_result"
    }
   ],
   "source": [
    "# MAPDL starten\n",
    "mapdl = launch_mapdl(nproc=1)\n",
    "# Start mapdl and clear it.\n",
    "mapdl.clear()\n",
    "\n",
    "# Enter verification example mode and the pre-processing routine.\n",
    "mapdl.prep7()"
   ]
  },
  {
   "cell_type": "markdown",
   "id": "a3fe049d",
   "metadata": {},
   "source": [
    "### Define element type"
   ]
  },
  {
   "cell_type": "code",
   "execution_count": 44,
   "id": "84b6689c",
   "metadata": {},
   "outputs": [
    {
     "data": {
      "text/plain": [
       "ELEMENT TYPE       1 IS BEAM188      2-D 2-NODE BEAM             \n",
       "  KEYOPT( 1- 6)=        0      0      0        0      1      0\n",
       "  KEYOPT( 7-12)=        0      0      0        0      0      0\n",
       "  KEYOPT(13-18)=        0      0      0        0      0      0\n",
       "\n",
       " CURRENT NODAL DOF SET IS  UX    UY    ROTZ\n",
       "  TWO-DIMENSIONAL MODEL"
      ]
     },
     "execution_count": 44,
     "metadata": {},
     "output_type": "execute_result"
    }
   ],
   "source": [
    "# Type of analysis: static.\n",
    "mapdl.antype(\"STATIC\")\n",
    "\n",
    "# Element type: BEAM188.\n",
    "mapdl.et(1, \"188\")\n",
    "mapdl.keyopt(1, 5, 1)   # 2D problem (uy, ux and rotz)"
   ]
  },
  {
   "cell_type": "markdown",
   "id": "dbb58f97",
   "metadata": {},
   "source": [
    "### Define material"
   ]
  },
  {
   "cell_type": "code",
   "execution_count": 45,
   "id": "295645cc",
   "metadata": {},
   "outputs": [
    {
     "data": {
      "text/plain": [
       "MATERIAL          1     PRXY =  0.3000000"
      ]
     },
     "execution_count": 45,
     "metadata": {},
     "output_type": "execute_result"
    }
   ],
   "source": [
    "mapdl.mp(\"EX\", 1, 2.1e11)       # youngs modulus N/m^2\n",
    "mapdl.mp(\"PRXY\", 1, 0.3)        # Poisson ratio"
   ]
  },
  {
   "cell_type": "markdown",
   "id": "b49acbc8",
   "metadata": {},
   "source": [
    "### Define section"
   ]
  },
  {
   "cell_type": "code",
   "execution_count": 46,
   "id": "d65f9cb2",
   "metadata": {},
   "outputs": [
    {
     "data": {
      "text/plain": [
       "SECTION ID NUMBER IS:            1\n",
       "   BEAM SECTION TYPE IS:     Rectangle       \n",
       "   BEAM SECTION NAME IS:     my_sec  \n",
       "   COMPUTED BEAM SECTION DATA SUMMARY:\n",
       "    Area                 = 0.10000    \n",
       "    Iyy                  = 0.20833E-02\n",
       "    Iyz                  = 0.54210E-19\n",
       "    Izz                  = 0.33333E-03\n",
       "    Warping Constant     = 0.35809E-05\n",
       "    Torsion Constant     = 0.10213E-02\n",
       "    Centroid Y           = 0.18974E-17\n",
       "    Centroid Z           = 0.43368E-17\n",
       "    Shear Center Y       =-0.14129E-15\n",
       "    Shear Center Z       = 0.35099E-16\n",
       "    Shear Correction-xy  = 0.84211    \n",
       "    Shear Correction-yz  = 0.11341E-15\n",
       "    Shear Correction-xz  = 0.84211    \n",
       "                 \n",
       "    Beam Section is offset to CENTROID of cross section"
      ]
     },
     "execution_count": 46,
     "metadata": {},
     "output_type": "execute_result"
    }
   ],
   "source": [
    "mapdl.sectype(1, \"Beam\", \"RECT\", \"my_sec\")\n",
    "mapdl.secdata(0.2, 0.5) # b and h in m"
   ]
  },
  {
   "cell_type": "markdown",
   "id": "a8c37aa9",
   "metadata": {},
   "source": [
    "### Define nodes and elements"
   ]
  },
  {
   "cell_type": "code",
   "execution_count": 47,
   "id": "8d0eb46c",
   "metadata": {},
   "outputs": [
    {
     "name": "stdout",
     "output_type": "stream",
     "text": [
      "LIST ALL SELECTED NODES.   DSYS=      0\n",
      "   *****MAPDL VERIFICATION RUN ONLY*****\n",
      "     DO NOT USE RESULTS FOR PRODUCTION\n",
      "\n",
      "    NODE        X             Y             Z           THXY     THYZ     THZX\n",
      "        1   0.0000        0.0000        0.0000          0.00     0.00     0.00\n",
      "        2   120.00        0.0000        0.0000          0.00     0.00     0.00\n",
      "        3   240.00        0.0000        0.0000          0.00     0.00     0.00\n",
      "        4   360.00        0.0000        0.0000          0.00     0.00     0.00\n",
      "        5   480.00        0.0000        0.0000          0.00     0.00     0.00\n",
      "        6   60.000        1.0000        0.0000          0.00     0.00     0.00\n",
      "LIST ALL SELECTED ELEMENTS.  (LIST NODES)\n",
      "   *****MAPDL VERIFICATION RUN ONLY*****\n",
      "     DO NOT USE RESULTS FOR PRODUCTION\n",
      " \n",
      "    ELEM MAT TYP REL ESY SEC        NODES\n",
      " \n",
      "       1   1   1   1   0   1      1     2\n",
      "       2   1   1   1   0   1      2     3\n",
      "       3   1   1   1   0   1      3     4\n",
      "       4   1   1   1   0   1      4     5\n"
     ]
    }
   ],
   "source": [
    "# Define nodes\n",
    "for node_num in range(1, 6):\n",
    "    mapdl.n(node_num, (node_num - 1) * 120, 0, 0)\n",
    "\n",
    "# Define one node for the orientation of the beam cross-section.\n",
    "orient_node = mapdl.n(6, 60, 1)\n",
    "\n",
    "# Define one node for the orientation of the beam cross-section.\n",
    "orient_node = mapdl.n(6, 60, 1)\n",
    "\n",
    "# Define elements\n",
    "for elem_num in range(1, 5):\n",
    "    mapdl.e(elem_num, elem_num + 1, orient_node)\n",
    "\n",
    "print(mapdl.nlist())\n",
    "print(mapdl.elist())"
   ]
  },
  {
   "cell_type": "markdown",
   "id": "197e91d9",
   "metadata": {},
   "source": [
    "### Define boundary conditions"
   ]
  },
  {
   "cell_type": "code",
   "execution_count": 48,
   "id": "18b18580",
   "metadata": {},
   "outputs": [
    {
     "data": {
      "text/plain": [
       "SPECIFIED CONSTRAINT UY   FOR SELECTED NODES            5 TO           5 BY           1\n",
       " REAL=  0.00000000       IMAG=  0.00000000"
      ]
     },
     "execution_count": 48,
     "metadata": {},
     "output_type": "execute_result"
    }
   ],
   "source": [
    "# BC for the beams seats\n",
    "mapdl.d(1, \"UX\")\n",
    "mapdl.d(2, \"UY\")\n",
    "mapdl.d(5, \"UY\")"
   ]
  },
  {
   "cell_type": "markdown",
   "id": "686402f8",
   "metadata": {},
   "source": [
    "### Define force"
   ]
  },
  {
   "cell_type": "code",
   "execution_count": 49,
   "id": "4a644133",
   "metadata": {},
   "outputs": [
    {
     "data": {
      "text/plain": [
       "SPECIFIED NODAL LOAD FY   FOR SELECTED NODES         3 TO        3 BY        1\n",
       "  REAL= -100.000000       IMAG=  0.00000000"
      ]
     },
     "execution_count": 49,
     "metadata": {},
     "output_type": "execute_result"
    }
   ],
   "source": [
    "mapdl.f(3, \"FY\", -100)"
   ]
  },
  {
   "cell_type": "markdown",
   "id": "a1b5079f",
   "metadata": {},
   "source": [
    "### Solve"
   ]
  },
  {
   "cell_type": "code",
   "execution_count": 50,
   "id": "cd4eae51",
   "metadata": {},
   "outputs": [
    {
     "ename": "MapdlExitedError",
     "evalue": "Error:\nMAPDL server connection terminated unexpectedly while running:\n  SOLVE,\ncalled by:\n  _send_command\n\nSuggestions:\n  MAPDL *might* have died because it executed a not-allowed command or ran out of memory.\n  Check the MAPDL command output for more details.\n  Open an issue on GitHub if you need assistance: https://github.com/ansys/pymapdl/issues\nMAPDL instance:\n  C:/Users/FJ/AppData/Local/Temp/ansys_ugmwudcaij\n  127.0.0.1:50053\nError:\n  failed to connect to all addresses; last error: UNAVAILABLE: ipv4:127.0.0.1:50053: ConnectEx: Connection refused (No connection could be made because the target machine actively refused it.\r\n -- 10061)\nFull error:\n<_InactiveRpcError of RPC that terminated with:\n\tstatus = StatusCode.UNAVAILABLE\n\tdetails = \"failed to connect to all addresses; last error: UNAVAILABLE: ipv4:127.0.0.1:50053: ConnectEx: Connection refused (No connection could be made because the target machine actively refused it.\r\n -- 10061)\"\n\tdebug_error_string = \"UNKNOWN:Error received from peer  {grpc_message:\"failed to connect to all addresses; last error: UNAVAILABLE: ipv4:127.0.0.1:50053: ConnectEx: Connection refused (No connection could be made because the target machine actively refused it.\\r\\n -- 10061)\", grpc_status:14}\"\n>",
     "output_type": "error",
     "traceback": [
      "\u001b[1;31m---------------------------------------------------------------------------\u001b[0m",
      "\u001b[1;31m_InactiveRpcError\u001b[0m                         Traceback (most recent call last)",
      "File \u001b[1;32md:\\40_Python\\GeometricNonlinearFEM2D\\.venv\\lib\\site-packages\\ansys\\mapdl\\core\\errors.py:323\u001b[0m, in \u001b[0;36mprotect_grpc.<locals>.wrapper\u001b[1;34m(*args, **kwargs)\u001b[0m\n\u001b[0;32m    322\u001b[0m \u001b[38;5;28;01mtry\u001b[39;00m:\n\u001b[1;32m--> 323\u001b[0m     out \u001b[38;5;241m=\u001b[39m func(\u001b[38;5;241m*\u001b[39margs, \u001b[38;5;241m*\u001b[39m\u001b[38;5;241m*\u001b[39mkwargs)\n\u001b[0;32m    325\u001b[0m     \u001b[38;5;66;03m# Exit while-loop if success\u001b[39;00m\n",
      "File \u001b[1;32md:\\40_Python\\GeometricNonlinearFEM2D\\.venv\\lib\\site-packages\\ansys\\mapdl\\core\\mapdl_grpc.py:1072\u001b[0m, in \u001b[0;36mMapdlGrpc._send_command\u001b[1;34m(self, cmd, mute)\u001b[0m\n\u001b[0;32m   1071\u001b[0m \u001b[38;5;66;03m# TODO: Capture keyboard exception and place this in a thread\u001b[39;00m\n\u001b[1;32m-> 1072\u001b[0m grpc_response \u001b[38;5;241m=\u001b[39m \u001b[38;5;28;43mself\u001b[39;49m\u001b[38;5;241;43m.\u001b[39;49m\u001b[43m_stub\u001b[49m\u001b[38;5;241;43m.\u001b[39;49m\u001b[43mSendCommand\u001b[49m\u001b[43m(\u001b[49m\u001b[43mrequest\u001b[49m\u001b[43m)\u001b[49m\n\u001b[0;32m   1074\u001b[0m resp \u001b[38;5;241m=\u001b[39m grpc_response\u001b[38;5;241m.\u001b[39mresponse\n",
      "File \u001b[1;32md:\\40_Python\\GeometricNonlinearFEM2D\\.venv\\lib\\site-packages\\grpc\\_channel.py:1178\u001b[0m, in \u001b[0;36m_UnaryUnaryMultiCallable.__call__\u001b[1;34m(self, request, timeout, metadata, credentials, wait_for_ready, compression)\u001b[0m\n\u001b[0;32m   1175\u001b[0m state, call \u001b[38;5;241m=\u001b[39m \u001b[38;5;28mself\u001b[39m\u001b[38;5;241m.\u001b[39m_blocking(\n\u001b[0;32m   1176\u001b[0m     request, timeout, metadata, credentials, wait_for_ready, compression\n\u001b[0;32m   1177\u001b[0m )\n\u001b[1;32m-> 1178\u001b[0m \u001b[38;5;28;01mreturn\u001b[39;00m \u001b[43m_end_unary_response_blocking\u001b[49m\u001b[43m(\u001b[49m\u001b[43mstate\u001b[49m\u001b[43m,\u001b[49m\u001b[43m \u001b[49m\u001b[43mcall\u001b[49m\u001b[43m,\u001b[49m\u001b[43m \u001b[49m\u001b[38;5;28;43;01mFalse\u001b[39;49;00m\u001b[43m,\u001b[49m\u001b[43m \u001b[49m\u001b[38;5;28;43;01mNone\u001b[39;49;00m\u001b[43m)\u001b[49m\n",
      "File \u001b[1;32md:\\40_Python\\GeometricNonlinearFEM2D\\.venv\\lib\\site-packages\\grpc\\_channel.py:1006\u001b[0m, in \u001b[0;36m_end_unary_response_blocking\u001b[1;34m(state, call, with_call, deadline)\u001b[0m\n\u001b[0;32m   1005\u001b[0m \u001b[38;5;28;01melse\u001b[39;00m:\n\u001b[1;32m-> 1006\u001b[0m     \u001b[38;5;28;01mraise\u001b[39;00m _InactiveRpcError(state)\n",
      "\u001b[1;31m_InactiveRpcError\u001b[0m: <_InactiveRpcError of RPC that terminated with:\n\tstatus = StatusCode.UNAVAILABLE\n\tdetails = \"failed to connect to all addresses; last error: UNAVAILABLE: ipv4:127.0.0.1:50053: ConnectEx: Connection refused (No connection could be made because the target machine actively refused it.\r\n -- 10061)\"\n\tdebug_error_string = \"UNKNOWN:Error received from peer  {grpc_message:\"failed to connect to all addresses; last error: UNAVAILABLE: ipv4:127.0.0.1:50053: ConnectEx: Connection refused (No connection could be made because the target machine actively refused it.\\r\\n -- 10061)\", grpc_status:14}\"\n>",
      "\nDuring handling of the above exception, another exception occurred:\n",
      "\u001b[1;31mMapdlExitedError\u001b[0m                          Traceback (most recent call last)",
      "Cell \u001b[1;32mIn[50], line 2\u001b[0m\n\u001b[0;32m      1\u001b[0m mapdl\u001b[38;5;241m.\u001b[39mrun(\u001b[38;5;124m\"\u001b[39m\u001b[38;5;124m/SOLU\u001b[39m\u001b[38;5;124m\"\u001b[39m)\n\u001b[1;32m----> 2\u001b[0m out \u001b[38;5;241m=\u001b[39m \u001b[43mmapdl\u001b[49m\u001b[38;5;241;43m.\u001b[39;49m\u001b[43msolve\u001b[49m\u001b[43m(\u001b[49m\u001b[43m)\u001b[49m\n\u001b[0;32m      3\u001b[0m mapdl\u001b[38;5;241m.\u001b[39mfinish()\n",
      "File \u001b[1;32md:\\40_Python\\GeometricNonlinearFEM2D\\.venv\\lib\\site-packages\\ansys\\mapdl\\core\\_commands\\solution\\analysis_options.py:3477\u001b[0m, in \u001b[0;36mAnalysisOptions.solve\u001b[1;34m(self, action, **kwargs)\u001b[0m\n\u001b[0;32m   3457\u001b[0m \u001b[38;5;250m\u001b[39m\u001b[38;5;124;03m\"\"\"Starts a solution.\u001b[39;00m\n\u001b[0;32m   3458\u001b[0m \n\u001b[0;32m   3459\u001b[0m \u001b[38;5;124;03mAPDL Command: SOLVE\u001b[39;00m\n\u001b[1;32m   (...)\u001b[0m\n\u001b[0;32m   3474\u001b[0m \u001b[38;5;124;03min the first phase of a linear perturbation analysis.\u001b[39;00m\n\u001b[0;32m   3475\u001b[0m \u001b[38;5;124;03m\"\"\"\u001b[39;00m\n\u001b[0;32m   3476\u001b[0m command \u001b[38;5;241m=\u001b[39m \u001b[38;5;124mf\u001b[39m\u001b[38;5;124m\"\u001b[39m\u001b[38;5;124mSOLVE,\u001b[39m\u001b[38;5;132;01m{\u001b[39;00maction\u001b[38;5;132;01m}\u001b[39;00m\u001b[38;5;124m\"\u001b[39m\n\u001b[1;32m-> 3477\u001b[0m \u001b[38;5;28;01mreturn\u001b[39;00m \u001b[38;5;28mself\u001b[39m\u001b[38;5;241m.\u001b[39mrun(command, \u001b[38;5;241m*\u001b[39m\u001b[38;5;241m*\u001b[39mkwargs)\n",
      "File \u001b[1;32md:\\40_Python\\GeometricNonlinearFEM2D\\.venv\\lib\\site-packages\\ansys\\mapdl\\core\\mapdl_core.py:2340\u001b[0m, in \u001b[0;36m_MapdlCore.run\u001b[1;34m(self, command, write_to_log, mute, **kwargs)\u001b[0m\n\u001b[0;32m   2338\u001b[0m short_cmd \u001b[38;5;241m=\u001b[39m parse_to_short_cmd(command)\n\u001b[0;32m   2339\u001b[0m \u001b[38;5;28mself\u001b[39m\u001b[38;5;241m.\u001b[39m_log\u001b[38;5;241m.\u001b[39mdebug(\u001b[38;5;124mf\u001b[39m\u001b[38;5;124m\"\u001b[39m\u001b[38;5;124mRunning (verbose: \u001b[39m\u001b[38;5;132;01m{\u001b[39;00mverbose\u001b[38;5;132;01m}\u001b[39;00m\u001b[38;5;124m, mute=\u001b[39m\u001b[38;5;132;01m{\u001b[39;00mmute\u001b[38;5;132;01m}\u001b[39;00m\u001b[38;5;124m): \u001b[39m\u001b[38;5;124m'\u001b[39m\u001b[38;5;132;01m{\u001b[39;00mcommand\u001b[38;5;132;01m}\u001b[39;00m\u001b[38;5;124m'\u001b[39m\u001b[38;5;124m\"\u001b[39m)\n\u001b[1;32m-> 2340\u001b[0m text \u001b[38;5;241m=\u001b[39m \u001b[38;5;28;43mself\u001b[39;49m\u001b[38;5;241;43m.\u001b[39;49m\u001b[43m_run\u001b[49m\u001b[43m(\u001b[49m\u001b[43mcommand\u001b[49m\u001b[43m,\u001b[49m\u001b[43m \u001b[49m\u001b[43mverbose\u001b[49m\u001b[38;5;241;43m=\u001b[39;49m\u001b[43mverbose\u001b[49m\u001b[43m,\u001b[49m\u001b[43m \u001b[49m\u001b[43mmute\u001b[49m\u001b[38;5;241;43m=\u001b[39;49m\u001b[43mmute\u001b[49m\u001b[43m)\u001b[49m\n\u001b[0;32m   2342\u001b[0m \u001b[38;5;28;01mif\u001b[39;00m (\n\u001b[0;32m   2343\u001b[0m     \u001b[38;5;124m\"\u001b[39m\u001b[38;5;124mDisplay device has not yet been specified with the /SHOW command\u001b[39m\u001b[38;5;124m\"\u001b[39m \u001b[38;5;129;01min\u001b[39;00m text\n\u001b[0;32m   2344\u001b[0m     \u001b[38;5;129;01mand\u001b[39;00m short_cmd \u001b[38;5;129;01min\u001b[39;00m PLOT_COMMANDS\n\u001b[0;32m   2345\u001b[0m ):\n\u001b[0;32m   2346\u001b[0m     \u001b[38;5;66;03m# Reissuing the command to make sure we get output.\u001b[39;00m\n\u001b[0;32m   2347\u001b[0m     \u001b[38;5;28mself\u001b[39m\u001b[38;5;241m.\u001b[39mshow(\u001b[38;5;28mself\u001b[39m\u001b[38;5;241m.\u001b[39mdefault_file_type_for_plots)\n",
      "File \u001b[1;32md:\\40_Python\\GeometricNonlinearFEM2D\\.venv\\lib\\site-packages\\ansys\\mapdl\\core\\mapdl_grpc.py:1021\u001b[0m, in \u001b[0;36mMapdlGrpc._run\u001b[1;34m(self, cmd, verbose, mute)\u001b[0m\n\u001b[0;32m   1019\u001b[0m     response \u001b[38;5;241m=\u001b[39m \u001b[38;5;28mself\u001b[39m\u001b[38;5;241m.\u001b[39m_send_command_stream(cmd, \u001b[38;5;28;01mTrue\u001b[39;00m)\n\u001b[0;32m   1020\u001b[0m \u001b[38;5;28;01melse\u001b[39;00m:\n\u001b[1;32m-> 1021\u001b[0m     response \u001b[38;5;241m=\u001b[39m \u001b[38;5;28;43mself\u001b[39;49m\u001b[38;5;241;43m.\u001b[39;49m\u001b[43m_send_command\u001b[49m\u001b[43m(\u001b[49m\u001b[43mcmd\u001b[49m\u001b[43m,\u001b[49m\u001b[43m \u001b[49m\u001b[43mmute\u001b[49m\u001b[38;5;241;43m=\u001b[39;49m\u001b[43mmute\u001b[49m\u001b[43m)\u001b[49m\n\u001b[0;32m   1022\u001b[0m \u001b[38;5;28mself\u001b[39m\u001b[38;5;241m.\u001b[39m_busy \u001b[38;5;241m=\u001b[39m \u001b[38;5;28;01mFalse\u001b[39;00m\n\u001b[0;32m   1024\u001b[0m \u001b[38;5;28;01mreturn\u001b[39;00m response\u001b[38;5;241m.\u001b[39mstrip()\n",
      "File \u001b[1;32md:\\40_Python\\GeometricNonlinearFEM2D\\.venv\\lib\\site-packages\\ansys\\mapdl\\core\\errors.py:387\u001b[0m, in \u001b[0;36mprotect_grpc.<locals>.wrapper\u001b[1;34m(*args, **kwargs)\u001b[0m\n\u001b[0;32m    379\u001b[0m             suggestion \u001b[38;5;241m=\u001b[39m (\n\u001b[0;32m    380\u001b[0m                 \u001b[38;5;124m\"\u001b[39m\u001b[38;5;124m  MAPDL *might* have died because it executed a not-allowed command or ran out of memory.\u001b[39m\u001b[38;5;130;01m\\n\u001b[39;00m\u001b[38;5;124m\"\u001b[39m\n\u001b[0;32m    381\u001b[0m                 \u001b[38;5;124m\"\u001b[39m\u001b[38;5;124m  Check the MAPDL command output for more details.\u001b[39m\u001b[38;5;130;01m\\n\u001b[39;00m\u001b[38;5;124m\"\u001b[39m\n\u001b[0;32m    382\u001b[0m                 \u001b[38;5;124m\"\u001b[39m\u001b[38;5;124m  Open an issue on GitHub if you need assistance: \u001b[39m\u001b[38;5;124m\"\u001b[39m\n\u001b[0;32m    383\u001b[0m                 \u001b[38;5;124m\"\u001b[39m\u001b[38;5;124mhttps://github.com/ansys/pymapdl/issues\u001b[39m\u001b[38;5;124m\"\u001b[39m\n\u001b[0;32m    384\u001b[0m             )\n\u001b[0;32m    386\u001b[0m         \u001b[38;5;66;03m# Generic error\u001b[39;00m\n\u001b[1;32m--> 387\u001b[0m         \u001b[43mhandle_generic_grpc_error\u001b[49m\u001b[43m(\u001b[49m\u001b[43merror\u001b[49m\u001b[43m,\u001b[49m\u001b[43m \u001b[49m\u001b[43mfunc\u001b[49m\u001b[43m,\u001b[49m\u001b[43m \u001b[49m\u001b[43margs\u001b[49m\u001b[43m,\u001b[49m\u001b[43m \u001b[49m\u001b[43mkwargs\u001b[49m\u001b[43m,\u001b[49m\u001b[43m \u001b[49m\u001b[43mreason\u001b[49m\u001b[43m,\u001b[49m\u001b[43m \u001b[49m\u001b[43msuggestion\u001b[49m\u001b[43m)\u001b[49m\n\u001b[0;32m    389\u001b[0m \u001b[38;5;66;03m# No exceptions\u001b[39;00m\n\u001b[0;32m    390\u001b[0m \u001b[38;5;28;01mif\u001b[39;00m threading\u001b[38;5;241m.\u001b[39mcurrent_thread()\u001b[38;5;241m.\u001b[39m\u001b[38;5;18m__class__\u001b[39m\u001b[38;5;241m.\u001b[39m\u001b[38;5;18m__name__\u001b[39m \u001b[38;5;241m==\u001b[39m \u001b[38;5;124m\"\u001b[39m\u001b[38;5;124m_MainThread\u001b[39m\u001b[38;5;124m\"\u001b[39m:\n",
      "File \u001b[1;32md:\\40_Python\\GeometricNonlinearFEM2D\\.venv\\lib\\site-packages\\ansys\\mapdl\\core\\errors.py:471\u001b[0m, in \u001b[0;36mhandle_generic_grpc_error\u001b[1;34m(error, func, args, kwargs, reason, suggestion)\u001b[0m\n\u001b[0;32m    467\u001b[0m \u001b[38;5;28;01melse\u001b[39;00m:\n\u001b[0;32m    468\u001b[0m     \u001b[38;5;66;03m# Making sure we do not keep executing gRPC calls.\u001b[39;00m\n\u001b[0;32m    469\u001b[0m     \u001b[38;5;66;03m# Must close unfinished processes\u001b[39;00m\n\u001b[0;32m    470\u001b[0m     mapdl\u001b[38;5;241m.\u001b[39mexit()\n\u001b[1;32m--> 471\u001b[0m     \u001b[38;5;28;01mraise\u001b[39;00m MapdlExitedError(msg)\n",
      "\u001b[1;31mMapdlExitedError\u001b[0m: Error:\nMAPDL server connection terminated unexpectedly while running:\n  SOLVE,\ncalled by:\n  _send_command\n\nSuggestions:\n  MAPDL *might* have died because it executed a not-allowed command or ran out of memory.\n  Check the MAPDL command output for more details.\n  Open an issue on GitHub if you need assistance: https://github.com/ansys/pymapdl/issues\nMAPDL instance:\n  C:/Users/FJ/AppData/Local/Temp/ansys_ugmwudcaij\n  127.0.0.1:50053\nError:\n  failed to connect to all addresses; last error: UNAVAILABLE: ipv4:127.0.0.1:50053: ConnectEx: Connection refused (No connection could be made because the target machine actively refused it.\r\n -- 10061)\nFull error:\n<_InactiveRpcError of RPC that terminated with:\n\tstatus = StatusCode.UNAVAILABLE\n\tdetails = \"failed to connect to all addresses; last error: UNAVAILABLE: ipv4:127.0.0.1:50053: ConnectEx: Connection refused (No connection could be made because the target machine actively refused it.\r\n -- 10061)\"\n\tdebug_error_string = \"UNKNOWN:Error received from peer  {grpc_message:\"failed to connect to all addresses; last error: UNAVAILABLE: ipv4:127.0.0.1:50053: ConnectEx: Connection refused (No connection could be made because the target machine actively refused it.\\r\\n -- 10061)\", grpc_status:14}\"\n>"
     ]
    }
   ],
   "source": [
    "mapdl.run(\"/SOLU\")\n",
    "out = mapdl.solve()\n",
    "mapdl.finish()"
   ]
  },
  {
   "cell_type": "markdown",
   "id": "fe71ee59",
   "metadata": {},
   "source": [
    "### Post processing"
   ]
  },
  {
   "cell_type": "code",
   "execution_count": null,
   "id": "f4077dc1",
   "metadata": {},
   "outputs": [
    {
     "name": "stdout",
     "output_type": "stream",
     "text": [
      "0.0\n"
     ]
    }
   ],
   "source": [
    "# Enter the post-processing routine and select the first load step.\n",
    "mapdl.post1()\n",
    "mapdl.set(1)\n",
    "\n",
    "# \n",
    "uy = mapdl.get_value(entity=\"NODE\", entnum=4, item1=\"u\", it1num=\"x\")\n",
    "\n",
    "print(uy)"
   ]
  },
  {
   "cell_type": "code",
   "execution_count": 53,
   "id": "05fe3b72",
   "metadata": {},
   "outputs": [],
   "source": [
    "mapdl.exit()"
   ]
  }
 ],
 "metadata": {
  "kernelspec": {
   "display_name": ".venv",
   "language": "python",
   "name": "python3"
  },
  "language_info": {
   "codemirror_mode": {
    "name": "ipython",
    "version": 3
   },
   "file_extension": ".py",
   "mimetype": "text/x-python",
   "name": "python",
   "nbconvert_exporter": "python",
   "pygments_lexer": "ipython3",
   "version": "3.10.6"
  }
 },
 "nbformat": 4,
 "nbformat_minor": 5
}
