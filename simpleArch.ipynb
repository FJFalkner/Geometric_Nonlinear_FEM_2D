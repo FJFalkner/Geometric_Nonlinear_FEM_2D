{
 "cells": [
  {
   "cell_type": "code",
   "execution_count": 1,
   "id": "0d1513f1",
   "metadata": {},
   "outputs": [],
   "source": [
    "from ansys.mapdl.core import launch_mapdl\n",
    "import numpy as np\n",
    "import matplotlib.pyplot as plt\n",
    "\n",
    "def plot_Deformation(x_N,y_N,ux,uy):\n",
    "    # --- Settings ---\n",
    "    scale = 1  # deformation magnification\n",
    "    mode_color = 'b'\n",
    "    mode_label = 'Deformed'\n",
    "    node_marker_size = 6\n",
    "    node_fill_color = 'yellow'\n",
    "\n",
    "    # --- Undeformed coordinates ---\n",
    "    x_orig = x_N\n",
    "    y_orig = y_N\n",
    "\n",
    "    # --- Deformed coordinates ---\n",
    "    x_def = x_orig + scale * ux\n",
    "    y_def = y_orig + scale * uy\n",
    "\n",
    "    # --- Plot ---\n",
    "    plt.figure(figsize=(10, 4))\n",
    "\n",
    "    # Plot undeformed shape\n",
    "    plt.plot(x_orig, y_orig, 'k--', label=\"Undeformed\", linewidth=1)\n",
    "\n",
    "    # Plot deformed shape\n",
    "    plt.plot(x_def, y_def, color=mode_color, label=mode_label, linewidth=2)\n",
    "    plt.plot(\n",
    "        x_def, y_def,\n",
    "        'o',\n",
    "        markerfacecolor=node_fill_color,\n",
    "        markeredgecolor=mode_color,\n",
    "        markersize=node_marker_size\n",
    "    )\n",
    "\n",
    "    # --- Final layout ---\n",
    "    plt.axis(\"equal\")\n",
    "    plt.xlabel(\"X\")\n",
    "    plt.ylabel(\"Y\")\n",
    "    plt.title(\"Undeformed vs Deformed Shape\")\n",
    "    plt.legend()\n",
    "    plt.tight_layout()\n",
    "    plt.grid()\n",
    "    plt.show()"
   ]
  },
  {
   "cell_type": "markdown",
   "id": "900cffc6",
   "metadata": {},
   "source": [
    "### Properties of arch\n",
    "\n",
    "Shallow arch under vertical point load\n",
    "\n",
    "![alt text](image.png)"
   ]
  },
  {
   "cell_type": "code",
   "execution_count": 2,
   "id": "f6760dda",
   "metadata": {},
   "outputs": [],
   "source": [
    "R = 40              # radius in m\n",
    "alpha = 20          # half of open angle in °\n",
    "n_El = 30           # number of elements\n",
    "Fref = -140E3       # magnitude of vertical force at top in N\n",
    "\n",
    "Ex = 2.1E11         # Youngs modulus\n",
    "nu = 0.3            # Poisson ratio\n",
    "\n",
    "b = 0.05            # width in m\n",
    "h = 0.20            # heigth in m"
   ]
  },
  {
   "cell_type": "markdown",
   "id": "f63cfcac",
   "metadata": {},
   "source": [
    "### Discretization\n",
    "Generate ANSYS input file"
   ]
  },
  {
   "cell_type": "code",
   "execution_count": 3,
   "id": "d8d2e38d",
   "metadata": {},
   "outputs": [
    {
     "data": {
      "text/plain": [
       "***** ROUTINE COMPLETED *****  CP =         0.000"
      ]
     },
     "execution_count": 3,
     "metadata": {},
     "output_type": "execute_result"
    }
   ],
   "source": [
    "# MAPDL starten\n",
    "mapdl = launch_mapdl(nproc=1)\n",
    "\n",
    "# Start mapdl and clear it.\n",
    "mapdl.clear()\n",
    "mapdl.verify()\n",
    "\n",
    "# Enter verification example mode and the pre-processing routine.\n",
    "mapdl.prep7()\n",
    "\n",
    "# Type of analysis: static.\n",
    "\n",
    "# Element type: BEAM188.\n",
    "mapdl.et(1, \"188\")\n",
    "# 2D analysis (uy, ux and rotz)\n",
    "# ! element y axis coincide with global -Z axis\n",
    "mapdl.keyopt(1, 5, 1)   \n",
    "\n",
    "# Material type: linear elastic\n",
    "mapdl.mp(\"EX\", 1, Ex)           # Youngs modulus N/m^2\n",
    "mapdl.mp(\"PRXY\", 1, nu)             # Poisson ratio\n",
    "\n",
    "# cross section of beam\n",
    "mapdl.sectype(1, \"Beam\", \"RECT\", \"my_sec\")  # rectangular cross section\n",
    "mapdl.secdata(b, h)                         # b (in element y) and h (in element z) in m\n",
    "\n",
    "# Define nodes\n",
    "x_N = R*np.sin(np.linspace(np.deg2rad(-alpha), np.deg2rad(alpha), n_El + 1))\n",
    "y_N = R*np.cos(np.linspace(np.deg2rad(-alpha), np.deg2rad(alpha), n_El + 1))\n",
    "for i in range(1, n_El+2):\n",
    "    mapdl.n(i, x_N[i-1], y_N[i-1], 0)\n",
    "\n",
    "# Define elements\n",
    "for i in range(1, n_El+1):  \n",
    "    mapdl.e(i, i+1)\n",
    "\n",
    "# BC for the beams seats\n",
    "mapdl.d(1, \"UX\")\n",
    "mapdl.d(1, \"UY\")\n",
    "mapdl.d(n_El+1, \"UY\")\n",
    "mapdl.d(n_El+1, \"UX\")\n",
    "\n",
    "# Load at top\n",
    "mapdl.f(n_El/2+1, \"FY\", Fref)\n",
    "\n",
    "mapdl.finish()"
   ]
  },
  {
   "cell_type": "markdown",
   "id": "a1b5079f",
   "metadata": {},
   "source": [
    "### Solve"
   ]
  },
  {
   "cell_type": "code",
   "execution_count": 4,
   "id": "cd4eae51",
   "metadata": {},
   "outputs": [
    {
     "data": {
      "text/plain": [
       "FINISH SOLUTION PROCESSING\n",
       "\n",
       "\n",
       " ***** ROUTINE COMPLETED *****  CP =         0.000"
      ]
     },
     "execution_count": 4,
     "metadata": {},
     "output_type": "execute_result"
    }
   ],
   "source": [
    "mapdl.run(\"/SOLU\")\n",
    "mapdl.autots(\"off\")\n",
    "mapdl.antype(\"STATIC\")\n",
    "mapdl.nlgeom(\"on\")\n",
    "mapdl.nsubst(10)\n",
    "mapdl.outres(\"BASIC\",\"ALL\")\n",
    "#mapdl.pstres(\"on\")\n",
    "out = mapdl.solve()\n",
    "mapdl.finish()"
   ]
  },
  {
   "cell_type": "markdown",
   "id": "fe71ee59",
   "metadata": {},
   "source": [
    "### Post processing"
   ]
  },
  {
   "cell_type": "code",
   "execution_count": 5,
   "id": "f4077dc1",
   "metadata": {},
   "outputs": [
    {
     "name": "stdout",
     "output_type": "stream",
     "text": [
      "*****  INDEX OF DATA SETS ON RESULTS FILE  *****\n",
      "\n",
      "     SET   TIME/FREQ    LOAD STEP   SUBSTEP  CUMULATIVE\n",
      "       1 0.10000000             1         1         3                  \n",
      "       2 0.20000000             1         2         5                  \n",
      "       3 0.30000000             1         3         7                  \n",
      "       4 0.40000000             1         4         9                  \n",
      "       5 0.50000000             1         5        11                  \n",
      "       6 0.60000000             1         6        13                  \n",
      "       7 0.70000000             1         7        15                  \n",
      "       8 0.80000000             1         8        17                  \n",
      "       9 0.90000000             1         9        20                  \n",
      "      10  1.0000000             1        10        23\n"
     ]
    },
    {
     "data": {
      "image/png": "[encoded data removed]",
      "text/plain": [
       "<Figure size 640x480 with 1 Axes>"
      ]
     },
     "metadata": {},
     "output_type": "display_data"
    },
    {
     "data": {
      "image/png": "[encoded data removed]",
      "text/plain": [
       "<Figure size 1000x400 with 1 Axes>"
      ]
     },
     "metadata": {},
     "output_type": "display_data"
    },
    {
     "name": "stdout",
     "output_type": "stream",
     "text": [
      "-0.4940709947116399\n"
     ]
    },
    {
     "data": {
      "text/plain": [
       "EXIT THE MAPDL POST1 DATABASE PROCESSOR\n",
       "\n",
       "\n",
       " ***** ROUTINE COMPLETED *****  CP =         0.000"
      ]
     },
     "execution_count": 5,
     "metadata": {},
     "output_type": "execute_result"
    }
   ],
   "source": [
    "# Enter the post-processing routine and select the first load step.\n",
    "mapdl.post1()\n",
    "\n",
    "output = mapdl.set(\"LIST\")\n",
    "print(output)\n",
    "\n",
    "# monitor DOF\n",
    "u_monitor = np.zeros((11,2))\n",
    "for i in range(1,11):\n",
    "    mapdl.set(1, i)\n",
    "    u_monitor[i,1] = mapdl.get_value(entity=\"NODE\", entnum=n_El/2+1, item1=\"u\", it1num=\"y\")\n",
    "    u_monitor[i,0] = mapdl.get_value(entity=\"ACTIVE\", entnum=0, item1=\"set\", it1num=\"time\")\n",
    "\n",
    "plt.plot(u_monitor[:,1], u_monitor[:,0], color='blue', linewidth=2)\n",
    "plt.grid()\n",
    "plt.show()\n",
    "\n",
    "#mapdl.set(1, 10)\n",
    "\n",
    "# Get nodal displacements\n",
    "ux = np.zeros(n_El+1)\n",
    "uy = np.zeros(n_El+1)\n",
    "for i in range(0, n_El+1):\n",
    "    ux[i] = mapdl.get_value(entity=\"NODE\", entnum=i+1, item1=\"u\", it1num=\"x\")\n",
    "    uy[i] = mapdl.get_value(entity=\"NODE\", entnum=i+1, item1=\"u\", it1num=\"y\")\n",
    "\n",
    "plot_Deformation(x_N, y_N, ux, uy)\n",
    "\n",
    "print(uy[int(n_El/2)])\n",
    "\n",
    "mapdl.finish()"
   ]
  },
  {
   "cell_type": "code",
   "execution_count": null,
   "id": "05fe3b72",
   "metadata": {},
   "outputs": [],
   "source": [
    "\n",
    "\n"
   ]
  },
  {
   "cell_type": "code",
   "execution_count": 7,
   "id": "cdc54f4f",
   "metadata": {},
   "outputs": [],
   "source": [
    "mapdl.exit()"
   ]
  }
 ],
 "metadata": {
  "kernelspec": {
   "display_name": ".venv (3.13.5)",
   "language": "python",
   "name": "python3"
  },
  "language_info": {
   "codemirror_mode": {
    "name": "ipython",
    "version": 3
   },
   "file_extension": ".py",
   "mimetype": "text/x-python",
   "name": "python",
   "nbconvert_exporter": "python",
   "pygments_lexer": "ipython3",
   "version": "3.13.5"
  }
 },
 "nbformat": 4,
 "nbformat_minor": 5
}
